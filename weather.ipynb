{
 "cells": [
  {
   "source": [
    "import pandas as pd"
   ],
   "cell_type": "markdown",
   "metadata": {}
  },
  {
   "source": [
    "# Task 1: Import csv Data\n",
    "data = pd.read_csv(\"temperatures.csv\", usecols=[\"Zeitstempel\", \"Wert\"], encoding=\"utf-8-sig\")\n",
    "data[\"Zeitstempel\"] = pd.to_datetime(data[\"Zeitstempel\"], format=\"%Y%m%d%H%M\")\n",
    "data.set_index(\"Zeitstempel\", inplace=True)"
   ],
   "cell_type": "code",
   "metadata": {},
   "execution_count": null,
   "outputs": []
  },
  {
   "source": [
    "# Task 2: Interpolate to 15 min intervals\n",
    "upsampled = data.resample('15min').asfreq()\n",
    "interpolated = upsampled.interpolate(method=\"linear\", columns=\"Wert\")\n",
    "interpolated[\"Jahr\"] = interpolated.index.year\n",
    "interpolated[\"Monat\"] = interpolated.index.month"
   ],
   "cell_type": "code",
   "metadata": {},
   "execution_count": null,
   "outputs": []
  },
  {
   "source": [
    "# Task 3: Find minimum and maximum value for each year\n",
    "max_werte = interpolated.loc[interpolated.groupby(\"Jahr\")[\"Wert\"].idxmax()]\n",
    "min_werte = interpolated.loc[interpolated.groupby(\"Jahr\")[\"Wert\"].idxmin()]"
   ],
   "cell_type": "code",
   "metadata": {},
   "execution_count": null,
   "outputs": []
  },
  {
   "source": [
    "# convert series to text\n",
    "txt_max = max_werte.to_string(columns=[\"Wert\"])\n",
    "txt_min = min_werte.to_string(columns=[\"Wert\"])"
   ],
   "cell_type": "code",
   "metadata": {},
   "execution_count": null,
   "outputs": []
  },
  {
   "source": [
    "# output to txt file\n",
    "with open(\"output.txt\", \"w\") as output:\n",
    "    output.write(\"Höchsttemperatur pro Jahr:\" + \"\\n\")\n",
    "    output.write(txt_max + \"\\n\\n\")\n",
    "    output.write(\"Tiefsttemperatur pro Jahr:\" + \"\\n\")\n",
    "    output.write(txt_min)"
   ],
   "cell_type": "code",
   "metadata": {},
   "execution_count": null,
   "outputs": []
  },
  {
   "source": [
    "# Task 4: Plot the temperatures for the hottest and coldest days of each year\n",
    "# provided into the same axis, over time of day\n",
    "max_werte[\"Uhrzeit\"] = max_werte.index.time\n",
    "min_werte[\"Uhrzeit\"] = min_werte.index.time\n",
    "max_werte.plot(x=\"Uhrzeit\", y=\"Wert\", title=\"Höchsttemperaturen\")\n",
    "min_werte.plot(x=\"Uhrzeit\", y=\"Wert\", title=\"Tiefsttemperatuen\")"
   ],
   "cell_type": "code",
   "metadata": {},
   "execution_count": null,
   "outputs": []
  },
  {
   "source": [
    "# Task 5: one extra analysis of the dataset\n",
    "mean = interpolated.groupby(\"Monat\")[\"Wert\"].mean()\n",
    "mean.plot(title=\"Durchschnittstemperatur pro Monat\")"
   ],
   "cell_type": "code",
   "metadata": {},
   "execution_count": null,
   "outputs": []
  }
 ],
 "metadata": {
  "kernelspec": {
   "display_name": "Python 3",
   "language": "python",
   "name": "python3"
  },
  "language_info": {
   "codemirror_mode": {
    "name": "ipython",
    "version": 3
   },
   "file_extension": ".py",
   "mimetype": "text/x-python",
   "name": "python",
   "nbconvert_exporter": "python",
   "pygments_lexer": "ipython3",
   "version": "3.8.5"
  }
 },
 "nbformat": 4,
 "nbformat_minor": 4
}